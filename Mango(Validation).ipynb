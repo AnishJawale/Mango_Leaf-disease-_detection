{
 "cells": [
  {
   "cell_type": "code",
   "execution_count": 1,
   "id": "4846e31b-83d3-40ae-8e21-298412da78e4",
   "metadata": {},
   "outputs": [],
   "source": [
    "import numpy as np\n",
    "from tensorflow.keras.preprocessing import image\n",
    "import tensorflow as tf"
   ]
  },
  {
   "cell_type": "code",
   "execution_count": 2,
   "id": "f8ffedab-985c-4434-9202-f0e52e058416",
   "metadata": {},
   "outputs": [],
   "source": [
    "model = tf.keras.models.load_model('mango_model_2.keras')"
   ]
  },
  {
   "cell_type": "code",
   "execution_count": 3,
   "id": "b57f3d30-648b-4585-85ab-fa1e097c7c6c",
   "metadata": {},
   "outputs": [],
   "source": [
    "class_indices = {'Anthracnose': 0, 'Bacterial Canker': 1, 'Cutting Weevil': 2, 'Die Back': 3, 'Gall Midge': 4, 'Healthy': 5, 'Powdery Mildew': 6, 'Sooty Mould': 7}"
   ]
  },
  {
   "cell_type": "code",
   "execution_count": 4,
   "id": "0fda9e0f-8b52-406b-afb8-f54d576c83ae",
   "metadata": {},
   "outputs": [],
   "source": [
    "class_names = {v: k for k, v in class_indices.items()}"
   ]
  },
  {
   "cell_type": "code",
   "execution_count": 5,
   "id": "11722d09-4a69-4c3f-a263-f4af38a8bd4a",
   "metadata": {},
   "outputs": [],
   "source": [
    "def predict_image(image_path):\n",
    "    # Load and preprocess the image\n",
    "    img = image.load_img(image_path, target_size=(150, 150))\n",
    "    img_array = image.img_to_array(img)\n",
    "    img_array = np.expand_dims(img_array, axis=0)  \n",
    "    img_array /= 255.0  \n",
    "   \n",
    "    predictions = model.predict(img_array)\n",
    "    predicted_class_index = np.argmax(predictions[0])\n",
    "    predicted_class_name = class_names[predicted_class_index]\n",
    "    confidence_score = predictions[0][predicted_class_index] * 100\n",
    "    print(f\"The image is predicted to be in the class: {predicted_class_name}\")\n",
    "    print(f\"Confidence score for {predicted_class_name}: {confidence_score:.2f}%\")\n",
    "\n",
    " \n",
    "    return predicted_class_name, predictions"
   ]
  },
  {
   "cell_type": "code",
   "execution_count": 7,
   "id": "af5f4c30-44fa-4dd8-aa30-02248ef875aa",
   "metadata": {},
   "outputs": [
    {
     "name": "stdout",
     "output_type": "stream",
     "text": [
      "\u001b[1m1/1\u001b[0m \u001b[32m━━━━━━━━━━━━━━━━━━━━\u001b[0m\u001b[37m\u001b[0m \u001b[1m0s\u001b[0m 31ms/step\n",
      "The image is predicted to be in the class: Healthy\n",
      "Confidence score for Healthy: 90.88%\n"
     ]
    }
   ],
   "source": [
    "image_path = \"D:\\Downloads\\disease\\m4.jpeg\" \n",
    "predicted_class, confidence_scores = predict_image(image_path)\n"
   ]
  },
  {
   "cell_type": "code",
   "execution_count": null,
   "id": "6e82c50c-f95a-46aa-b6dc-0aa55d12d72b",
   "metadata": {},
   "outputs": [],
   "source": []
  },
  {
   "cell_type": "code",
   "execution_count": null,
   "id": "96a2eccc-b735-4ed9-92f3-c22fd3d0bfce",
   "metadata": {},
   "outputs": [],
   "source": []
  }
 ],
 "metadata": {
  "kernelspec": {
   "display_name": "Python 3 (ipykernel)",
   "language": "python",
   "name": "python3"
  },
  "language_info": {
   "codemirror_mode": {
    "name": "ipython",
    "version": 3
   },
   "file_extension": ".py",
   "mimetype": "text/x-python",
   "name": "python",
   "nbconvert_exporter": "python",
   "pygments_lexer": "ipython3",
   "version": "3.11.2"
  }
 },
 "nbformat": 4,
 "nbformat_minor": 5
}
